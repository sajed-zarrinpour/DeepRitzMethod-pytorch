{
 "cells": [
  {
   "cell_type": "markdown",
   "metadata": {},
   "source": [
    "## Test on a simple case\n",
    "Consider the following Poisson Equation\n",
    "$$\n",
    "\\begin{cases}\n",
    "    \\Delta u = 0\\qquad &u\\in\\Omega\\\\\n",
    "    u = xy\\qquad &u\\in\\partial\\Omega.\n",
    "\\end{cases}$$\n",
    "Here $\\Omega = \\{(x, y)|\\ 0< x, y< 1\\}$\n",
    "\n",
    "The exact solution to this problem is $$u = xy.$$"
   ]
  },
  {
   "cell_type": "code",
   "execution_count": 1,
   "metadata": {
    "collapsed": true
   },
   "outputs": [],
   "source": [
    "% matplotlib inline\n",
    "import torch \n",
    "import torch.nn.functional as F\n",
    "from torch.optim.lr_scheduler import StepLR, MultiStepLR\n",
    "import numpy as np\n",
    "from math import *\n",
    "import matplotlib.pyplot as plt\n",
    "import matplotlib.cm as cm\n",
    "\n",
    "torch.set_default_tensor_type('torch.FloatTensor')\n",
    "\n",
    "class DeepRitzNet(torch.nn.Module):\n",
    "    def __init__(self, m):\n",
    "        super(DeepRitzNet, self).__init__()\n",
    "        self.linear1 = torch.nn.Linear(m,m)\n",
    "        self.linear2 = torch.nn.Linear(m,m)\n",
    "        self.linear3 = torch.nn.Linear(m,m)\n",
    "        self.linear4 = torch.nn.Linear(m,m)\n",
    "        self.linear5 = torch.nn.Linear(m,m)\n",
    "        self.linear6 = torch.nn.Linear(m,m)\n",
    "        \n",
    "        self.linear7 = torch.nn.Linear(m,1)\n",
    "       \n",
    "    def forward(self, x):\n",
    "        y = x\n",
    "        y = y + F.relu(self.linear2(F.relu(self.linear1(y))))\n",
    "        y = y + F.relu(self.linear4(F.relu(self.linear3(y))))\n",
    "        y = y + F.relu(self.linear6(F.relu(self.linear5(y))))\n",
    "        output = F.relu(self.linear7(y))\n",
    "        return output"
   ]
  },
  {
   "cell_type": "code",
   "execution_count": 2,
   "metadata": {
    "collapsed": true
   },
   "outputs": [],
   "source": [
    "def draw_graph(mod):\n",
    "    points = np.arange(0, 1, 0.01)\n",
    "    xs, ys = np.meshgrid(points, points)\n",
    "    xs = torch.tensor(xs)\n",
    "    ys = torch.tensor(ys)\n",
    "    xl, yl = xs.size()\n",
    "    z = np.zeros((xl, yl))\n",
    "    for i in range(xl):\n",
    "        for j in range(yl):      \n",
    "            re = np.zeros(m)\n",
    "            re[0] = xs[i, j]\n",
    "            re[1] = ys[i, j]\n",
    "            re = torch.tensor(re)        \n",
    "            z[i, j] = mod(re.float()).item() - U_groundtruth(re)\n",
    "    \n",
    "    plt.imshow(z, cmap=cm.hot)\n",
    "    plt.colorbar()\n",
    "    \n",
    "    plt.show()"
   ]
  },
  {
   "cell_type": "code",
   "execution_count": 3,
   "metadata": {
    "collapsed": true
   },
   "outputs": [],
   "source": [
    "def cal_loss(mod):\n",
    "    points = np.arange(0, 1.1, 0.1)\n",
    "    xs, ys = np.meshgrid(points, points)\n",
    "    xs = torch.tensor(xs)\n",
    "    ys = torch.tensor(ys)\n",
    "    xl, yl = xs.size()\n",
    "    z = np.zeros((xl, yl))\n",
    "    mmm = 0\n",
    "    t = 0\n",
    "    for i in range(xl):\n",
    "        for j in range(yl):      \n",
    "            re = np.zeros(m)\n",
    "            re[0] = xs[i, j]\n",
    "            re[1] = ys[i, j]\n",
    "            re = torch.tensor(re)        \n",
    "            z[i, j] = mod(re.float()).item() - U_groundtruth(re)\n",
    "            mmm += abs(z[i, j])\n",
    "            t += 1\n",
    "    return mmm / t"
   ]
  },
  {
   "cell_type": "code",
   "execution_count": 4,
   "metadata": {
    "collapsed": true
   },
   "outputs": [],
   "source": [
    "def relative_err(mod):\n",
    "    points = np.arange(0, 1, 0.1)\n",
    "    xs, ys = np.meshgrid(points, points)\n",
    "    xs = torch.tensor(xs)\n",
    "    ys = torch.tensor(ys)\n",
    "    xl, yl = xs.size()\n",
    "    z = np.zeros((xl, yl))\n",
    "    w = np.zeros((xl, yl))\n",
    "    t = 0\n",
    "    for i in range(xl):\n",
    "        for j in range(yl):      \n",
    "            re = np.zeros(m)\n",
    "            re[0] = xs[i, j]\n",
    "            re[1] = ys[i, j]\n",
    "            re = torch.tensor(re)\n",
    "            z[i, j] = mod(re.float()).item() - U_groundtruth(re)\n",
    "            w[i, j] = U_groundtruth(re)\n",
    "            t += 1\n",
    "    z = z ** 2\n",
    "    w = w ** 2\n",
    "    return np.sum(z) / np.sum(w)"
   ]
  },
  {
   "cell_type": "code",
   "execution_count": 5,
   "metadata": {
    "collapsed": true
   },
   "outputs": [],
   "source": [
    "def U_groundtruth(t):\n",
    "    return (t[0] * t[1]).item()"
   ]
  },
  {
   "cell_type": "code",
   "execution_count": 6,
   "metadata": {
    "collapsed": true
   },
   "outputs": [],
   "source": [
    "def validate(mod):\n",
    "    draw_graph(mod)\n",
    "    print(cal_loss(mod))"
   ]
  },
  {
   "cell_type": "code",
   "execution_count": null,
   "metadata": {
    "collapsed": true
   },
   "outputs": [],
   "source": [
    "validate(model)"
   ]
  },
  {
   "cell_type": "code",
   "execution_count": null,
   "metadata": {
    "collapsed": true
   },
   "outputs": [],
   "source": [
    "relative_err(model)"
   ]
  },
  {
   "cell_type": "code",
   "execution_count": 178,
   "metadata": {
    "collapsed": true
   },
   "outputs": [],
   "source": [
    "PATH = 'test_parameters.pkl'\n",
    "torch.save(model.state_dict(), PATH)"
   ]
  },
  {
   "cell_type": "code",
   "execution_count": 38,
   "metadata": {
    "collapsed": true
   },
   "outputs": [],
   "source": [
    "m = 10\n",
    "PATH = 'test_parameters.pkl'\n",
    "model = DeepRitzNet(m)\n",
    "model.load_state_dict(torch.load(PATH))"
   ]
  },
  {
   "cell_type": "code",
   "execution_count": 172,
   "metadata": {
    "collapsed": true
   },
   "outputs": [],
   "source": [
    "model = DeepRitzNet(m)"
   ]
  },
  {
   "cell_type": "code",
   "execution_count": null,
   "metadata": {
    "collapsed": true
   },
   "outputs": [],
   "source": [
    "train(model, iterations=50000, milestones=[10000,20000,30000,40000], gamma=1, beta=500, beta_increase=1, \n",
    "      alpha=2000, alpha_increase=1.01, initial_lr=0.00001, print_every_iter=5)"
   ]
  },
  {
   "cell_type": "code",
   "execution_count": 13,
   "metadata": {
    "collapsed": true
   },
   "outputs": [],
   "source": [
    "m = 10\n",
    "learning_rate = 0.01\n",
    "iterations = 400\n",
    "print_every_iter = 100\n",
    "beta = 500 #coefficient for the regularization term in the loss expression\n",
    "n2 = 100  #number of points on the border of Omega\n",
    "gamma = 10"
   ]
  },
  {
   "cell_type": "code",
   "execution_count": 19,
   "metadata": {
    "collapsed": true,
    "scrolled": true
   },
   "outputs": [],
   "source": [
    "def train(mod, initial_lr=learning_rate, n2=n2, milestones=[400], gamma=0.5, alpha=1, alpha_increase=1.01, iterations=iterations, beta=1, beta_increase=1.01, print_every_iter=print_every_iter):\n",
    "    optimizer = torch.optim.Adam(mod.parameters(), lr=initial_lr)\n",
    "    scheduler = MultiStepLR(optimizer, milestones=milestones, gamma=gamma)\n",
    "\n",
    "    mm = 1\n",
    "    points = np.arange(0, 1, 0.1)\n",
    "    xs, ys = np.meshgrid(points, points)\n",
    "    xs = torch.tensor(xs)\n",
    "    ys = torch.tensor(ys)\n",
    "    xl, yl = xs.size()\n",
    "\n",
    "    start = time.time()\n",
    "    for k in range(iterations):\n",
    "        n1 = 0\n",
    "        loss = torch.zeros(1)\n",
    "        for i in range(xl):\n",
    "            for j in range(yl):        \n",
    "                x_input = np.zeros(m)\n",
    "                x_input[0] = xs[i, j]\n",
    "                x_input[1] = ys[i, j]\n",
    "                \n",
    "                n1 += 1\n",
    "                x_input = torch.tensor(x_input).float()\n",
    "                y = mod(x_input)\n",
    "\n",
    "                x1 = torch.zeros(m)\n",
    "                x2 = torch.zeros(m)\n",
    "                x1[0] = 0.0001\n",
    "                x2[1] = 0.0001\n",
    "                x_input_1 = x_input.float() + x1\n",
    "                x_input_2 = x_input.float() + x2\n",
    "                x_input_3 = x_input.float() - x1\n",
    "                x_input_4 = x_input.float() - x2\n",
    "                x_input_grad_1 = (mod(x_input_1) - y) / 0.0001\n",
    "                x_input_grad_2 = (mod(x_input_2) - y) / 0.0001\n",
    "                x_input_2_grad_x = (mod(x_input_1) + mod(x_input_3) - 2 * y) / 0.0001**2\n",
    "                x_input_2_grad_y = (mod(x_input_2) + mod(x_input_4) - 2 * y) / 0.0001**2\n",
    "\n",
    "                loss += 0.5 * ((x_input_grad_1) ** 2 + (x_input_grad_2) ** 2)  + alpha * (x_input_2_grad_x + x_input_2_grad_y) ** 2\n",
    "                \n",
    "        loss /= n1\n",
    "\n",
    "        regularization = torch.zeros(1)\n",
    "        for t in range(n2):\n",
    "            x_input = np.zeros(m)\n",
    "            x_input[0] = np.random.rand()\n",
    "            x_input[1] = np.random.rand()\n",
    "            x_rand = np.random.rand()\n",
    "            if x_rand < 0.25:\n",
    "                x_input[0] = 0\n",
    "            elif x_rand > 0.25 and x_rand < 0.5:\n",
    "                x_input[0] = 1\n",
    "            elif x_rand > 0.5 and x_rand < 0.75:\n",
    "                x_input[1] = 0\n",
    "            elif x_rand > 0.75 :\n",
    "                x_input[1] = 1\n",
    "            x_input = torch.tensor(x_input).float()\n",
    "            y = mod(x_input)\n",
    "            regularization += (y - x_input[0] * x_input[1])**2 \n",
    "        regularization *= beta / n2\n",
    "        if alpha < 500:\n",
    "            alpha *= alpha_increase\n",
    "        if beta < 500:\n",
    "            beta *= beta_increase\n",
    "        \n",
    "        if((k + 1) % print_every_iter == 0):\n",
    "            print(k, \" epoch, loss: \", loss.data[0].numpy())\n",
    "            print(k, \" epoch, regularization loss: \", regularization.data[0].numpy())\n",
    "            print(k, \" loss to real solution: \", cal_loss(mod))\n",
    "        if cal_loss(mod) < 0.0001:\n",
    "            break\n",
    "\n",
    "        loss += regularization\n",
    "\n",
    "        optimizer.zero_grad()\n",
    "        loss.backward()\n",
    "\n",
    "        scheduler.step()\n",
    "        optimizer.step()\n",
    "    stop = time.time()\n",
    "    print(stop - start)"
   ]
  }
 ],
 "metadata": {
  "kernelspec": {
   "display_name": "Python 3",
   "language": "python",
   "name": "python3"
  },
  "language_info": {
   "codemirror_mode": {
    "name": "ipython",
    "version": 3
   },
   "file_extension": ".py",
   "mimetype": "text/x-python",
   "name": "python",
   "nbconvert_exporter": "python",
   "pygments_lexer": "ipython3",
   "version": "3.6.3"
  }
 },
 "nbformat": 4,
 "nbformat_minor": 2
}
