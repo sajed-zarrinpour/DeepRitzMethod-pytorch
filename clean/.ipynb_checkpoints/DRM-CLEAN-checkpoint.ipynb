{
 "cells": [
  {
   "cell_type": "code",
   "execution_count": 1,
   "metadata": {},
   "outputs": [],
   "source": [
    "\n",
    "import numpy as np\n",
    "\n",
    "# Load the dataset\n",
    "test = np.loadtxt('test.csv', delimiter=',')\n",
    "train = np.loadtxt('train.csv', delimiter=',')\n",
    "# split both sets into X (input / data) and Y (output / lables) parts\n",
    "data = np.array(train)[:,0:2]\n",
    "labels = np.array(train)[:,2]\n",
    "\n",
    "d_test = np.array(test)[:,0:2]\n",
    "l_test = np.array(test)[:,2]\n",
    "\n",
    "#d_test_copy = d_test"
   ]
  },
  {
   "cell_type": "code",
   "execution_count": 2,
   "metadata": {},
   "outputs": [
    {
     "name": "stderr",
     "output_type": "stream",
     "text": [
      "Using TensorFlow backend.\n"
     ]
    }
   ],
   "source": [
    "#Declaring custom loss, activation and metrics\n",
    "\n",
    "import keras.backend as K\n",
    "\n",
    "def euclidean_distance_loss(y_true, y_pred):\n",
    "    return K.sqrt(K.sum(K.square(y_pred - y_true), axis=-1))\n",
    "\n",
    "# For custom metrics (this is mean squarred error)\n",
    "def mean_pred(y_true, y_pred):\n",
    "    return K.mean(np.square(np.subtract(y_true,y_pred)))\n",
    "\n",
    "#custom activation function\n",
    "from keras.layers import Activation\n",
    "#from keras import backend as K\n",
    "from keras.utils.generic_utils import get_custom_objects\n",
    "\n",
    "def custom_activation(x):\n",
    "    return  K.relu(x**3) \n",
    "\n",
    "get_custom_objects().update({'custom_activation': Activation(custom_activation)})\n"
   ]
  },
  {
   "cell_type": "code",
   "execution_count": 3,
   "metadata": {
    "code_folding": []
   },
   "outputs": [
    {
     "name": "stdout",
     "output_type": "stream",
     "text": [
      "WARNING:tensorflow:From /home/samim/anaconda2/lib/python2.7/site-packages/tensorflow/python/framework/op_def_library.py:263: colocate_with (from tensorflow.python.framework.ops) is deprecated and will be removed in a future version.\n",
      "Instructions for updating:\n",
      "Colocations handled automatically by placer.\n",
      "WARNING:tensorflow:From /home/samim/anaconda2/lib/python2.7/site-packages/tensorflow/python/ops/math_ops.py:3066: to_int32 (from tensorflow.python.ops.math_ops) is deprecated and will be removed in a future version.\n",
      "Instructions for updating:\n",
      "Use tf.cast instead.\n",
      "Epoch 1/1\n",
      "1642056/1642056 [==============================] - 3515s 2ms/step - loss: 0.0026 - mean_absolute_error: 0.0440 - acc: 2.4360e-06\n",
      "547352/547352 [==============================] - 115s 209us/step\n",
      "Loss Funcion Minima: 0.04427895\n",
      "Mean Square Error: 0.04427895\n",
      "Accuracy: 0.04427895\n"
     ]
    }
   ],
   "source": [
    "from keras.layers import Input, Dense, add\n",
    "from keras.models import Model\n",
    "\n",
    "\n",
    "#Actual DR Network\n",
    "# Data manipulation and model settings\n",
    "#number of neurons per layer\n",
    "m=10\n",
    "#padding zeros so that the input dimension can match our desired dimension:\n",
    "data = np.hstack((data, np.zeros((data.shape[0], m - data.shape[1] ))))\n",
    "data_test = np.hstack((d_test, np.zeros((d_test.shape[0], m - d_test.shape[1] ))))\n",
    "\n",
    "number_of_hidden_layers_plus_input_layer = 5\n",
    "\n",
    "#Declaring The Model\n",
    "#m = data.shape[1]\n",
    "\n",
    "stack = []\n",
    "inputTensor = Input(shape=(m,))\n",
    "\n",
    "for i in range(number_of_hidden_layers_plus_input_layer):\n",
    "    # First Layer Of the i-th Block \n",
    "    if(i==0):\n",
    "        stack.append(Dense(m, input_dim = (None,m,),activation='custom_activation')(inputTensor))\n",
    "    else: \n",
    "        stack.append(Dense(m, activation='custom_activation')(stack[len(stack)-1]))\n",
    "    # Second Layer of the i-th Block\n",
    "    stack.append(Dense(m,activation='custom_activation')(stack[len(stack)-1]))\n",
    "    # Third Layer of the i-th Block \n",
    "    # (adding the out put of the first layer and second layer of the block together)\n",
    "    stack.append(add([stack[len(stack)-2],stack[len(stack)-1]]))\n",
    "\n",
    "#adding the final Layer\n",
    "finalOutput = Dense(1)(stack[len(stack)-1])\n",
    "\n",
    "\n",
    "#Running The Model\n",
    "model = Model(inputTensor,finalOutput)\n",
    "#model.compile(optimizer='adam', loss=euclidean_distance_loss, metrics=[mean_pred])\n",
    "model.compile(loss='mean_squared_error',\n",
    "              optimizer='sgd',\n",
    "              metrics=['mae', 'acc'])\n",
    "model.fit(data, labels, epochs=1, batch_size=10)  \n",
    "\n",
    "loss, MSE, acc = model.evaluate(data_test, l_test)\n",
    "print('Loss Funcion Minima: %.8f' % (MSE))\n",
    "print('Mean Square Error: %.8f' % (MSE))\n",
    "print('Accuracy: %.8f' % (MSE))\n",
    "#print(model.metrics_names)"
   ]
  },
  {
   "cell_type": "code",
   "execution_count": 4,
   "metadata": {},
   "outputs": [],
   "source": [
    "#making predictions and save it!\n",
    "\n",
    "p = model.predict(data_test)\n",
    "\n",
    "out = np.hstack((d_test, p))\n"
   ]
  },
  {
   "cell_type": "code",
   "execution_count": 5,
   "metadata": {},
   "outputs": [
    {
     "data": {
      "text/plain": [
       "(547352, 3)"
      ]
     },
     "execution_count": 5,
     "metadata": {},
     "output_type": "execute_result"
    }
   ],
   "source": [
    "out.shape"
   ]
  },
  {
   "cell_type": "code",
   "execution_count": 7,
   "metadata": {},
   "outputs": [],
   "source": [
    "np.savetxt('gnuformatted_prediction.csv', train, delimiter=',')"
   ]
  },
  {
   "cell_type": "code",
   "execution_count": null,
   "metadata": {},
   "outputs": [],
   "source": []
  }
 ],
 "metadata": {
  "@webio": {
   "lastCommId": null,
   "lastKernelId": null
  },
  "kernelspec": {
   "display_name": "Python 2",
   "language": "python",
   "name": "python2"
  },
  "language_info": {
   "codemirror_mode": {
    "name": "ipython",
    "version": 2
   },
   "file_extension": ".py",
   "mimetype": "text/x-python",
   "name": "python",
   "nbconvert_exporter": "python",
   "pygments_lexer": "ipython2",
   "version": "2.7.16"
  }
 },
 "nbformat": 4,
 "nbformat_minor": 2
}
